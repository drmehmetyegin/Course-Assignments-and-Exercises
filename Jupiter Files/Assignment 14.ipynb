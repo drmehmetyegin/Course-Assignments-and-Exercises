{
 "cells": [
  {
   "cell_type": "code",
   "execution_count": 20,
   "id": "969f329e",
   "metadata": {},
   "outputs": [
    {
     "name": "stdout",
     "output_type": "stream",
     "text": [
      "[1, 1, 2, 3, 5, 8, 13, 21, 34, 55]\n"
     ]
    }
   ],
   "source": [
    "fibonacci=[1,1]\n",
    "a=1\n",
    "while a<55 :\n",
    "    a=a+int(fibonacci[-2])\n",
    "    fibonacci.append(a)\n",
    "print(fibonacci)"
   ]
  },
  {
   "cell_type": "markdown",
   "id": "a450467a",
   "metadata": {},
   "source": [
    "fibonacci=[1,1]\n",
    "for i in fibonacci:\n",
    "    i=int(fibonacci[-1])+int(fibonacci[-2])\n",
    "    fibonacci.append(i)\n",
    "    if fibonacci[-1]==55:\n",
    "        break\n",
    "print(fibonacci)"
   ]
  },
  {
   "cell_type": "code",
   "execution_count": null,
   "id": "e5c064a5",
   "metadata": {},
   "outputs": [],
   "source": []
  },
  {
   "cell_type": "markdown",
   "id": "9c1e3b03",
   "metadata": {},
   "source": [
    "fibonacci=[1,1]\n",
    "for i in range(8):\n",
    "    i=int(fibonacci[-1])+int(fibonacci[-2])\n",
    "    fibonacci.append(i)\n",
    "print(fibonacci)\n",
    "    "
   ]
  },
  {
   "cell_type": "code",
   "execution_count": 9,
   "id": "9052f862",
   "metadata": {},
   "outputs": [
    {
     "name": "stdout",
     "output_type": "stream",
     "text": [
      "[1, 1, 139583862445]\n"
     ]
    }
   ],
   "source": [
    "fibonacci.append(i)\n",
    "print(fibonacci)"
   ]
  },
  {
   "cell_type": "code",
   "execution_count": null,
   "id": "97527150",
   "metadata": {},
   "outputs": [],
   "source": []
  }
 ],
 "metadata": {
  "kernelspec": {
   "display_name": "Python 3 (ipykernel)",
   "language": "python",
   "name": "python3"
  },
  "language_info": {
   "codemirror_mode": {
    "name": "ipython",
    "version": 3
   },
   "file_extension": ".py",
   "mimetype": "text/x-python",
   "name": "python",
   "nbconvert_exporter": "python",
   "pygments_lexer": "ipython3",
   "version": "3.9.12"
  }
 },
 "nbformat": 4,
 "nbformat_minor": 5
}
