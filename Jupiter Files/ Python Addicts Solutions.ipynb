{
 "cells": [
  {
   "cell_type": "code",
   "execution_count": 5,
   "id": "59e0dc41",
   "metadata": {},
   "outputs": [
    {
     "name": "stdout",
     "output_type": "stream",
     "text": [
      "[[5, 4, 3, 2, 1], [9, 8, 7, 6], [13, 12, 11, 10], [17, 16, 15, 14]]\n"
     ]
    }
   ],
   "source": [
    "\n",
    "\n",
    "x=[[1, 2, 3, 4, 5], [6, 7, 8, 9], [10, 11, 12, 13], [14, 15, 16, 17]]  #Reverse each lists in the lists:\n",
    "\n",
    "\n",
    "x=[[1, 2, 3, 4, 5], [6, 7, 8, 9], [10, 11, 12, 13], [14, 15, 16, 17]]  #Reverse each lists in the lists:\n",
    "print([x[0][::-1],x[1][::-1],x[2][::-1],x[3][::-1]])"
   ]
  },
  {
   "cell_type": "code",
   "execution_count": 4,
   "id": "26a28081",
   "metadata": {},
   "outputs": [
    {
     "name": "stdout",
     "output_type": "stream",
     "text": [
      "[[17, 16, 15, 14], [13, 12, 11, 10], [9, 8, 7, 6], [5, 4, 3, 2, 1]]\n"
     ]
    }
   ],
   "source": [
    "x.reverse()\n",
    "x[0].reverse()\n",
    "x[1].reverse()\n",
    "x[2].reverse()\n",
    "x[3].reverse()\n",
    "print(x)"
   ]
  },
  {
   "cell_type": "code",
   "execution_count": null,
   "id": "ec105abe",
   "metadata": {},
   "outputs": [],
   "source": []
  },
  {
   "cell_type": "code",
   "execution_count": null,
   "id": "70a39d8a",
   "metadata": {},
   "outputs": [],
   "source": []
  }
 ],
 "metadata": {
  "kernelspec": {
   "display_name": "Python 3 (ipykernel)",
   "language": "python",
   "name": "python3"
  },
  "language_info": {
   "codemirror_mode": {
    "name": "ipython",
    "version": 3
   },
   "file_extension": ".py",
   "mimetype": "text/x-python",
   "name": "python",
   "nbconvert_exporter": "python",
   "pygments_lexer": "ipython3",
   "version": "3.9.12"
  }
 },
 "nbformat": 4,
 "nbformat_minor": 5
}
