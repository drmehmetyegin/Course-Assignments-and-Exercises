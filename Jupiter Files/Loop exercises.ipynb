{
 "cells": [
  {
   "cell_type": "code",
   "execution_count": 97,
   "id": "714fe3e8",
   "metadata": {},
   "outputs": [
    {
     "name": "stdout",
     "output_type": "stream",
     "text": [
      "susan is happy\n",
      "susan is sad\n",
      "tom is happy\n",
      "tom is sad\n",
      "edward is happy\n",
      "edward is sad\n"
     ]
    }
   ],
   "source": [
    "names=[\"susan\",'tom','edward']\n",
    "mood=[\"happy\",\"sad\"]\n",
    "for i in names:\n",
    "    for ii in mood:\n",
    "        print(i +\" is \"+ ii)"
   ]
  },
  {
   "cell_type": "code",
   "execution_count": 93,
   "id": "df252845",
   "metadata": {},
   "outputs": [
    {
     "name": "stdout",
     "output_type": "stream",
     "text": [
      "I am happy\n",
      "I am confident\n",
      "I am beautiful\n",
      "You are happy\n",
      "You are confident\n",
      "You are beautiful\n"
     ]
    }
   ],
   "source": [
    "who = ['I am ', 'You are ']\n",
    "mood = ['happy', 'confident','beautiful']\n",
    "for i in who:\n",
    "    for ii in mood:\n",
    "        print(i + ii)"
   ]
  },
  {
   "cell_type": "code",
   "execution_count": 91,
   "id": "3185f488",
   "metadata": {},
   "outputs": [
    {
     "name": "stdout",
     "output_type": "stream",
     "text": [
      "evens count: 5\n",
      "odds count: 4\n"
     ]
    }
   ],
   "source": [
    "x=[11,2,34,55,77,44,3,8,10]\n",
    "count1=0\n",
    "count2=0\n",
    "for i in x:\n",
    "    if i% 2==0:\n",
    "        count1 +=1\n",
    "    else:\n",
    "        count2 +=1\n",
    "print(\"evens count:\",count1)\n",
    "print(\"odds count:\",count2)"
   ]
  },
  {
   "cell_type": "code",
   "execution_count": 90,
   "id": "c55d0b8a",
   "metadata": {},
   "outputs": [
    {
     "name": "stdout",
     "output_type": "stream",
     "text": [
      "[0, 2, 4, 6, 8]\n",
      "[1, 3, 5, 7, 9]\n"
     ]
    }
   ],
   "source": [
    "evens=[]\n",
    "odds=[]\n",
    "\n",
    "for i in range(10):\n",
    "    if i%2==0:\n",
    "        evens.append(i)\n",
    "    else:\n",
    "        odds.append(i)\n",
    "print(evens)\n",
    "print(odds)"
   ]
  },
  {
   "cell_type": "code",
   "execution_count": 89,
   "id": "b9e34fc0",
   "metadata": {},
   "outputs": [
    {
     "name": "stdout",
     "output_type": "stream",
     "text": [
      "one : 1 : cat\n",
      "two : 2 : dog\n",
      "three : 3 : mouse\n",
      "four : 4 : cow\n",
      "five : 5 : sheep\n"
     ]
    },
    {
     "data": {
      "text/plain": [
       "[('one', 1, 'cat'),\n",
       " ('two', 2, 'dog'),\n",
       " ('three', 3, 'mouse'),\n",
       " ('four', 4, 'cow'),\n",
       " ('five', 5, 'sheep')]"
      ]
     },
     "execution_count": 89,
     "metadata": {},
     "output_type": "execute_result"
    }
   ],
   "source": [
    "text=['one','two','three','four','five']\n",
    "numbers=[1,2,3,4,5]\n",
    "animals=[\"cat\", \"dog\",'mouse','cow','sheep' ]\n",
    "\n",
    "for x, y,z in zip(text, numbers,animals):\n",
    "    print(x,\":\",y,\":\",z)\n",
    "list(zip(text, numbers,animals))\n",
    "print(*)"
   ]
  },
  {
   "cell_type": "code",
   "execution_count": 85,
   "id": "17c275ad",
   "metadata": {},
   "outputs": [
    {
     "name": "stdout",
     "output_type": "stream",
     "text": [
      "one : 1\n",
      "two : 2\n",
      "three : 3\n",
      "four : 4\n",
      "five : 5\n"
     ]
    },
    {
     "data": {
      "text/plain": [
       "[('one', 1), ('two', 2), ('three', 3), ('four', 4), ('five', 5)]"
      ]
     },
     "execution_count": 85,
     "metadata": {},
     "output_type": "execute_result"
    }
   ],
   "source": [
    "text=['one','two','three','four','five']\n",
    "numbers=[1,2,3,4,5]\n",
    "\n",
    "for x, y in zip(text, numbers):\n",
    "    print(x,\":\",y)\n",
    "list(zip(text, numbers))"
   ]
  },
  {
   "cell_type": "code",
   "execution_count": 86,
   "id": "8baa0f4d",
   "metadata": {},
   "outputs": [
    {
     "name": "stdout",
     "output_type": "stream",
     "text": [
      "\n",
      "1\n",
      "22\n",
      "333\n",
      "4444\n",
      "55555\n",
      "666666\n",
      "7777777\n",
      "88888888\n",
      "999999999\n"
     ]
    }
   ],
   "source": [
    "x=range(10)\n",
    "for i in x:\n",
    "    print(str(i)*i)"
   ]
  },
  {
   "cell_type": "code",
   "execution_count": 81,
   "id": "2e8bd868",
   "metadata": {},
   "outputs": [
    {
     "name": "stdout",
     "output_type": "stream",
     "text": [
      "M e h m e t\n"
     ]
    }
   ],
   "source": [
    "print(* \"Mehmet\")"
   ]
  },
  {
   "cell_type": "code",
   "execution_count": 80,
   "id": "a16fafa2",
   "metadata": {},
   "outputs": [
    {
     "name": "stdout",
     "output_type": "stream",
     "text": [
      "0 1 2 3 4\n"
     ]
    }
   ],
   "source": [
    "print(*range(5))"
   ]
  },
  {
   "cell_type": "raw",
   "id": "86bd62c2",
   "metadata": {},
   "source": [
    "print(* range(10,1, -1)\n"
   ]
  },
  {
   "cell_type": "code",
   "execution_count": 79,
   "id": "e2e5f762",
   "metadata": {},
   "outputs": [
    {
     "ename": "TypeError",
     "evalue": "'str' object is not callable",
     "output_type": "error",
     "traceback": [
      "\u001b[0;31m---------------------------------------------------------------------------\u001b[0m",
      "\u001b[0;31mTypeError\u001b[0m                                 Traceback (most recent call last)",
      "Input \u001b[0;32mIn [79]\u001b[0m, in \u001b[0;36m<cell line: 1>\u001b[0;34m()\u001b[0m\n\u001b[0;32m----> 1\u001b[0m a\u001b[38;5;241m=\u001b[39m \u001b[38;5;28mint\u001b[39m(\u001b[38;5;28;43minput\u001b[39;49m\u001b[43m(\u001b[49m\u001b[38;5;124;43m\"\u001b[39;49m\u001b[38;5;124;43mEnter a number between 1 to 10\u001b[39;49m\u001b[38;5;124;43m\"\u001b[39;49m\u001b[43m)\u001b[49m)\n\u001b[1;32m      3\u001b[0m \u001b[38;5;28;01mfor\u001b[39;00m i \u001b[38;5;129;01min\u001b[39;00m \u001b[38;5;28mrange\u001b[39m(\u001b[38;5;241m11\u001b[39m):\n\u001b[1;32m      4\u001b[0m     \u001b[38;5;28mprint\u001b[39m(\u001b[38;5;124mf\u001b[39m\u001b[38;5;124m'\u001b[39m\u001b[38;5;132;01m{\u001b[39;00ma\u001b[38;5;132;01m}\u001b[39;00m\u001b[38;5;124mx\u001b[39m\u001b[38;5;132;01m{\u001b[39;00mi\u001b[38;5;132;01m}\u001b[39;00m\u001b[38;5;124m =\u001b[39m\u001b[38;5;132;01m{\u001b[39;00ma\u001b[38;5;241m*\u001b[39mi\u001b[38;5;132;01m}\u001b[39;00m\u001b[38;5;124m \u001b[39m\u001b[38;5;124m'\u001b[39m)\n",
      "\u001b[0;31mTypeError\u001b[0m: 'str' object is not callable"
     ]
    }
   ],
   "source": [
    "a= int(input(\"Enter a number between 1 to 10\"))\n",
    "\n",
    "for i in range(11):\n",
    "    print(f'{a}x{i} ={a*i} ')"
   ]
  },
  {
   "cell_type": "code",
   "execution_count": 65,
   "id": "a5e5e681",
   "metadata": {},
   "outputs": [],
   "source": [
    "test=[(1,2),(3,4),(5,6)]\n",
    "i, j= test[1]\n"
   ]
  },
  {
   "cell_type": "code",
   "execution_count": 58,
   "id": "868e8f22",
   "metadata": {},
   "outputs": [
    {
     "name": "stdout",
     "output_type": "stream",
     "text": [
      "dict_items([('name', 'Daniel'), ('suname', 'Smith'), ('age', 35)])\n"
     ]
    }
   ],
   "source": [
    "user = {\n",
    "    \"name\" : \"Daniel\",\n",
    "    \"suname\" : \"Smith\",\n",
    "    \"age\" : 35\n",
    "}\n",
    "\n",
    "print(user.items())"
   ]
  },
  {
   "cell_type": "code",
   "execution_count": 54,
   "id": "799e458c",
   "metadata": {},
   "outputs": [
    {
     "name": "stdout",
     "output_type": "stream",
     "text": [
      "C-l-a-r-u-s-w-a-y"
     ]
    }
   ],
   "source": [
    "word=\"Clarusway\"\n",
    "counter=0\n",
    "for i in word:\n",
    "    counter+=1\n",
    "    if counter < len(word):\n",
    "       i+=\"-\"\n",
    "    print(i, end=\"\")"
   ]
  },
  {
   "cell_type": "code",
   "execution_count": 62,
   "id": "aed03251",
   "metadata": {},
   "outputs": [
    {
     "name": "stdout",
     "output_type": "stream",
     "text": [
      "name : Daniel surname : Smith age : 35 "
     ]
    }
   ],
   "source": [
    "user = {\n",
    "    \"name\" : \"Daniel\",\n",
    "    \"surname\" : \"Smith\",\n",
    "    \"age\" : 35\n",
    "}\n",
    "for key, value in user.items():\n",
    "    print(key,\":\",value, end=\" \")"
   ]
  },
  {
   "cell_type": "code",
   "execution_count": 10,
   "id": "6c44f429",
   "metadata": {},
   "outputs": [
    {
     "name": "stdout",
     "output_type": "stream",
     "text": [
      "Please answer in Yes or No! Are you a cigarette addict older than 75 years old?:no\n",
      "Please answer in Yes or No! Do you have a severe chronic disease?:no\n",
      "Please answer in Yes or No!Is your immune system too weak?:no\n",
      "You are not in risky group\n"
     ]
    }
   ],
   "source": [
    "\n",
    "a = input(\"Please answer in Yes or No! Are you a cigarette addict older than 75 years old?:\")  # can be assigned only True/False\n",
    "b = input(\"Please answer in Yes or No! Do you have a severe chronic disease?:\") # can be assigned only True/False\n",
    "c = input(\"Please answer in Yes or No!Is your immune system too weak?:\")  # can be assigned only True/False\n",
    "\n",
    "if a==\"Yes\":\n",
    "    age=True\n",
    "else:\n",
    "    age=False\n",
    "if b==\"Yes\":\n",
    "    chronic=True\n",
    "else:\n",
    "    chronic=False\n",
    "if c==\"Yes\":\n",
    "    immune=True\n",
    "else:\n",
    "    immune=False\n",
    "    if age or chronic or immune:\n",
    "        print(\"You are in risky group\")\n",
    "    else:\n",
    "        print(\"You are not in risky group\")"
   ]
  },
  {
   "cell_type": "code",
   "execution_count": 13,
   "id": "7a0dd70f",
   "metadata": {},
   "outputs": [
    {
     "name": "stdout",
     "output_type": "stream",
     "text": [
      "I am happy\n",
      "I am confident\n",
      "I am beuatiful\n",
      "You are happy\n",
      "You are confident\n",
      "You are beuatiful\n",
      "We arehappy\n",
      "We areconfident\n",
      "We arebeuatiful\n"
     ]
    }
   ],
   "source": [
    "who = ['I am ', 'You are ', 'We are']\n",
    "mood = ['happy', 'confident','beuatiful']\n",
    "for i in who:\n",
    "    for ii in mood:\n",
    "        print(i + ii)"
   ]
  },
  {
   "cell_type": "code",
   "execution_count": 15,
   "id": "98712145",
   "metadata": {},
   "outputs": [
    {
     "name": "stdout",
     "output_type": "stream",
     "text": [
      "How many times should I say 'I love you':5\n",
      "I love you\n",
      "I love you\n",
      "I love you\n",
      "I love you\n"
     ]
    }
   ],
   "source": [
    "times = int(input(\"How many times should I say 'I love you':\"))\n",
    "\n",
    "for i in range(1, times):\n",
    "    print('I love you')"
   ]
  },
  {
   "cell_type": "code",
   "execution_count": null,
   "id": "4ce5fdbe",
   "metadata": {},
   "outputs": [],
   "source": []
  },
  {
   "cell_type": "code",
   "execution_count": 71,
   "id": "0eb374fd",
   "metadata": {},
   "outputs": [
    {
     "ename": "TypeError",
     "evalue": "'str' object is not callable",
     "output_type": "error",
     "traceback": [
      "\u001b[0;31m---------------------------------------------------------------------------\u001b[0m",
      "\u001b[0;31mTypeError\u001b[0m                                 Traceback (most recent call last)",
      "Input \u001b[0;32mIn [71]\u001b[0m, in \u001b[0;36m<cell line: 1>\u001b[0;34m()\u001b[0m\n\u001b[0;32m----> 1\u001b[0m a\u001b[38;5;241m=\u001b[39m \u001b[38;5;28mint\u001b[39m(\u001b[38;5;28;43minput\u001b[39;49m\u001b[43m(\u001b[49m\u001b[38;5;124;43m'\u001b[39;49m\u001b[38;5;124;43menter a number between 1-10:\u001b[39;49m\u001b[38;5;124;43m'\u001b[39;49m\u001b[43m)\u001b[49m)\n\u001b[1;32m      3\u001b[0m \u001b[38;5;28;01mfor\u001b[39;00m i \u001b[38;5;129;01min\u001b[39;00m \u001b[38;5;28mrange\u001b[39m(\u001b[38;5;241m11\u001b[39m):\n\u001b[1;32m      4\u001b[0m     \u001b[38;5;28mprint\u001b[39m(\u001b[38;5;124m'\u001b[39m\u001b[38;5;132;01m{}\u001b[39;00m\u001b[38;5;124mx\u001b[39m\u001b[38;5;132;01m{}\u001b[39;00m\u001b[38;5;124m = \u001b[39m\u001b[38;5;124m'\u001b[39m\u001b[38;5;241m.\u001b[39mformat(a, i), a\u001b[38;5;241m*\u001b[39mi)\n",
      "\u001b[0;31mTypeError\u001b[0m: 'str' object is not callable"
     ]
    }
   ],
   "source": [
    "a= int(input('enter a number between 1-10:'))\n",
    "\n",
    "for i in range(11):\n",
    "    print('{}x{} = '.format(a, i), a*i)"
   ]
  },
  {
   "cell_type": "code",
   "execution_count": 24,
   "id": "cf67dda5",
   "metadata": {},
   "outputs": [
    {
     "name": "stdout",
     "output_type": "stream",
     "text": [
      "Please enter a sentence:You are my hunny bunny and my darling\n",
      "The length of the longest word is 7\n"
     ]
    }
   ],
   "source": [
    "a=input('Please enter a sentence:')\n",
    "word_a= a.split()\n",
    "i=0\n",
    "longest=0\n",
    "\n",
    "while i < len(word_a):\n",
    "    if len(word_a[i])>longest:\n",
    "        longest=len(word_a[i])\n",
    "    i +=1\n",
    "    \n",
    "print(f'The length of the longest word is {longest}' )\n",
    "    \n",
    "    \n"
   ]
  },
  {
   "cell_type": "code",
   "execution_count": 25,
   "id": "e9ac29dc",
   "metadata": {},
   "outputs": [
    {
     "name": "stdout",
     "output_type": "stream",
     "text": [
      "1\n",
      "2\n",
      "3\n",
      "4\n",
      "5\n"
     ]
    }
   ],
   "source": [
    "for i in [1, 2, 3, 4, 5] :\n",
    "    print(i)"
   ]
  },
  {
   "cell_type": "code",
   "execution_count": 28,
   "id": "e68cacff",
   "metadata": {},
   "outputs": [
    {
     "name": "stdout",
     "output_type": "stream",
     "text": [
      "0\n",
      "0\n",
      "2\n",
      "6\n",
      "12\n",
      "20\n",
      "30\n",
      "42\n",
      "56\n",
      "72\n",
      "90\n"
     ]
    }
   ],
   "source": [
    "for i in range(11):\n",
    "    print(i*(i-1))"
   ]
  },
  {
   "cell_type": "code",
   "execution_count": 29,
   "id": "45f7ecb9",
   "metadata": {},
   "outputs": [
    {
     "name": "stdout",
     "output_type": "stream",
     "text": [
      "spring\n",
      "summer\n",
      "autumn\n",
      "winter\n"
     ]
    }
   ],
   "source": [
    "seasons = ['spring', 'summer', 'autumn', 'winter']\n",
    "\n",
    "for a in seasons :\n",
    "    print(a)"
   ]
  },
  {
   "cell_type": "code",
   "execution_count": null,
   "id": "ee0754e4",
   "metadata": {},
   "outputs": [],
   "source": []
  }
 ],
 "metadata": {
  "kernelspec": {
   "display_name": "Python 3 (ipykernel)",
   "language": "python",
   "name": "python3"
  },
  "language_info": {
   "codemirror_mode": {
    "name": "ipython",
    "version": 3
   },
   "file_extension": ".py",
   "mimetype": "text/x-python",
   "name": "python",
   "nbconvert_exporter": "python",
   "pygments_lexer": "ipython3",
   "version": "3.9.12"
  }
 },
 "nbformat": 4,
 "nbformat_minor": 5
}
