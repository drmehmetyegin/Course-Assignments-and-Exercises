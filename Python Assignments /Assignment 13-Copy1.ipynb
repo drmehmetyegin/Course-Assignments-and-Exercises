{
 "cells": [
  {
   "cell_type": "code",
   "execution_count": null,
   "id": "88a6a2f5",
   "metadata": {},
   "outputs": [],
   "source": [
    "x=int(input('Please enter a number:'))\n",
    "if x>3:\n",
    "    for i in range(2, x//2):\n",
    "        if x % i == 0:\n",
    "            print(f'{x} is not a prime number.')\n",
    "            break\n",
    "    else:\n",
    "        print(f'{x} is a prime number.')\n",
    "elif x>0 :\n",
    "    print(f'{x} is a prime number and you should already know that.')     \n",
    "else:\n",
    "    print(f'{x} is out of range.')  "
   ]
  }
 ],
 "metadata": {
  "kernelspec": {
   "display_name": "Python 3 (ipykernel)",
   "language": "python",
   "name": "python3"
  },
  "language_info": {
   "codemirror_mode": {
    "name": "ipython",
    "version": 3
   },
   "file_extension": ".py",
   "mimetype": "text/x-python",
   "name": "python",
   "nbconvert_exporter": "python",
   "pygments_lexer": "ipython3",
   "version": "3.9.12"
  }
 },
 "nbformat": 4,
 "nbformat_minor": 5
}
