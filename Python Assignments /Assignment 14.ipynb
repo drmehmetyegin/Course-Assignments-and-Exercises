{
 "cells": [
  {
   "cell_type": "code",
   "execution_count": null,
   "id": "346c83c6",
   "metadata": {},
   "outputs": [],
   "source": [
    "Solution Number 3:"
   ]
  },
  {
   "cell_type": "code",
   "execution_count": 20,
   "id": "4c455208",
   "metadata": {},
   "outputs": [
    {
     "name": "stdout",
     "output_type": "stream",
     "text": [
      "[1, 1, 2, 3, 5, 8, 13, 21, 34, 55]\n"
     ]
    }
   ],
   "source": [
    "fibonacci=[1,1]\n",
    "a=1\n",
    "while a<55 :\n",
    "    a=a+int(fibonacci[-2])\n",
    "    fibonacci.append(a)\n",
    "print(fibonacci)"
   ]
  },
  {
   "cell_type": "code",
   "execution_count": null,
   "id": "bf54aed8",
   "metadata": {},
   "outputs": [],
   "source": [
    "Solution Number 2:"
   ]
  },
  {
   "cell_type": "code",
   "execution_count": 21,
   "id": "c06384f2",
   "metadata": {},
   "outputs": [
    {
     "name": "stdout",
     "output_type": "stream",
     "text": [
      "[1, 1, 2, 3, 5, 8, 13, 21, 34, 55]\n"
     ]
    }
   ],
   "source": [
    "fibonacci=[1,1]\n",
    "for i in fibonacci:\n",
    "    i=int(fibonacci[-1])+int(fibonacci[-2])\n",
    "    fibonacci.append(i)\n",
    "    if fibonacci[-1]==55:\n",
    "        break\n",
    "print(fibonacci)"
   ]
  },
  {
   "cell_type": "code",
   "execution_count": null,
   "id": "575a35bb",
   "metadata": {},
   "outputs": [],
   "source": [
    "Solution Number 1:"
   ]
  },
  {
   "cell_type": "code",
   "execution_count": 22,
   "id": "a3b58ed8",
   "metadata": {},
   "outputs": [
    {
     "name": "stdout",
     "output_type": "stream",
     "text": [
      "[1, 1, 2, 3, 5, 8, 13, 21, 34, 55]\n"
     ]
    }
   ],
   "source": [
    "fibonacci=[1,1]\n",
    "for i in range(8):\n",
    "    i=int(fibonacci[-1])+int(fibonacci[-2])\n",
    "    fibonacci.append(i)\n",
    "print(fibonacci)\n",
    "    "
   ]
  },
  {
   "cell_type": "code",
   "execution_count": null,
   "id": "20a7bd0a",
   "metadata": {},
   "outputs": [],
   "source": []
  }
 ],
 "metadata": {
  "kernelspec": {
   "display_name": "Python 3 (ipykernel)",
   "language": "python",
   "name": "python3"
  },
  "language_info": {
   "codemirror_mode": {
    "name": "ipython",
    "version": 3
   },
   "file_extension": ".py",
   "mimetype": "text/x-python",
   "name": "python",
   "nbconvert_exporter": "python",
   "pygments_lexer": "ipython3",
   "version": "3.9.12"
  }
 },
 "nbformat": 4,
 "nbformat_minor": 5
}
