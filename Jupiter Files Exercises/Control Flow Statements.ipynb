{
 "cells": [
  {
   "cell_type": "code",
   "execution_count": null,
   "id": "83b91aed",
   "metadata": {},
   "outputs": [],
   "source": [
    "numbers=[1,2,3,4,5]\n",
    "\n",
    "\n"
   ]
  },
  {
   "cell_type": "code",
   "execution_count": 1,
   "id": "578c326b",
   "metadata": {},
   "outputs": [
    {
     "name": "stdout",
     "output_type": "stream",
     "text": [
      "Sen neymissin be abi!\n"
     ]
    }
   ],
   "source": [
    "a=3\n",
    "b=0\n",
    "\n",
    "if a>b:\n",
    "    print(\"Sen neymissin be abi!\")"
   ]
  },
  {
   "cell_type": "code",
   "execution_count": 5,
   "id": "29fb2fdf",
   "metadata": {},
   "outputs": [
    {
     "data": {
      "text/plain": [
       "False"
      ]
     },
     "execution_count": 5,
     "metadata": {},
     "output_type": "execute_result"
    }
   ],
   "source": [
    "x= bool(0 or \"False\" and None)\n",
    "x"
   ]
  },
  {
   "cell_type": "code",
   "execution_count": 8,
   "id": "8e31c240",
   "metadata": {},
   "outputs": [
    {
     "name": "stdout",
     "output_type": "stream",
     "text": [
      "Bon Appetit!\n"
     ]
    }
   ],
   "source": [
    "#ingredients and requirements\n",
    "minced=True\n",
    "bread=True\n",
    "lettuce=True\n",
    "onion=True\n",
    "mayo=False\n",
    "grocer=True\n",
    "hamburger= minced and bread and grocer and (lettuce or onion)or mayo\n",
    "\n",
    "if hamburger:\n",
    "    print(\"Bon Appetit!\")"
   ]
  },
  {
   "cell_type": "code",
   "execution_count": null,
   "id": "10764047",
   "metadata": {},
   "outputs": [],
   "source": []
  }
 ],
 "metadata": {
  "kernelspec": {
   "display_name": "Python 3 (ipykernel)",
   "language": "python",
   "name": "python3"
  },
  "language_info": {
   "codemirror_mode": {
    "name": "ipython",
    "version": 3
   },
   "file_extension": ".py",
   "mimetype": "text/x-python",
   "name": "python",
   "nbconvert_exporter": "python",
   "pygments_lexer": "ipython3",
   "version": "3.9.12"
  }
 },
 "nbformat": 4,
 "nbformat_minor": 5
}
