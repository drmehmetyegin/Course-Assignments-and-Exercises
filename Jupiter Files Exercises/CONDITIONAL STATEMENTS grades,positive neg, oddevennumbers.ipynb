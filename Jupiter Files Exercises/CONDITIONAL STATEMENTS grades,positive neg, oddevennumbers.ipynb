{
 "cells": [
  {
   "cell_type": "code",
   "execution_count": 9,
   "id": "b1ea893c",
   "metadata": {},
   "outputs": [
    {
     "name": "stdout",
     "output_type": "stream",
     "text": [
      "Please enter a note:84\n",
      "B\n"
     ]
    }
   ],
   "source": [
    "note=int(input(\"Please enter a note:\"))\n",
    "if note >= 95:\n",
    "    print(\"A+\")\n",
    "elif note<=79:\n",
    "    print(\"below B or B-\")\n",
    "elif note >= 90 :\n",
    "    print(\"A\")\n",
    "elif note>=85 :\n",
    "    print(\"B+\")\n",
    "else:\n",
    "    print(\"B\")"
   ]
  },
  {
   "cell_type": "code",
   "execution_count": 7,
   "id": "11f7db13-f035-48fc-a7d5-b22f39d59eee",
   "metadata": {},
   "outputs": [
    {
     "data": {
      "text/plain": [
       "True"
      ]
     },
     "execution_count": 7,
     "metadata": {},
     "output_type": "execute_result"
    }
   ],
   "source": [
    "\"ali\" !=\"deli\""
   ]
  },
  {
   "cell_type": "code",
   "execution_count": 8,
   "id": "380aadd4-44f5-4b3b-a33c-9b92a54b9cfc",
   "metadata": {},
   "outputs": [
    {
     "name": "stdout",
     "output_type": "stream",
     "text": [
      "veli\n"
     ]
    }
   ],
   "source": [
    "if \"ali\" !=\"deli\":\n",
    "    print(\"veli\")"
   ]
  },
  {
   "cell_type": "code",
   "execution_count": 5,
   "id": "332ad149-2b0f-44d4-82c4-78e537526c7e",
   "metadata": {},
   "outputs": [
    {
     "name": "stdout",
     "output_type": "stream",
     "text": [
      "Oki doki\n"
     ]
    }
   ],
   "source": [
    "if 1 and \"bir\" and (1,):\n",
    "    print(\"Oki doki\")"
   ]
  },
  {
   "cell_type": "code",
   "execution_count": 6,
   "id": "02dba9b6-fe1a-447a-9a0c-f4b734fe6943",
   "metadata": {},
   "outputs": [
    {
     "data": {
      "text/plain": [
       "True"
      ]
     },
     "execution_count": 6,
     "metadata": {},
     "output_type": "execute_result"
    }
   ],
   "source": [
    "set1= set(\"TWELVE PLUS ONE\")\n",
    "set2= set(\"ELEVEN PLUS TWO\")\n",
    "set1==set2\n"
   ]
  },
  {
   "cell_type": "code",
   "execution_count": 10,
   "id": "ab70b3ff-0267-43fd-a02e-6f0b7a7de7de",
   "metadata": {},
   "outputs": [
    {
     "name": "stdin",
     "output_type": "stream",
     "text": [
      "Please answer in Yes or No: Yes\n"
     ]
    },
    {
     "name": "stdout",
     "output_type": "stream",
     "text": [
      "True\n"
     ]
    }
   ],
   "source": [
    "x=input(\"Please answer in Yes or No:\")\n",
    "if x==\"Yes\":\n",
    "    print(True)"
   ]
  },
  {
   "cell_type": "code",
   "execution_count": null,
   "id": "07496162-fe42-4f82-9aa6-63fe63bfa32b",
   "metadata": {},
   "outputs": [],
   "source": [
    "a=input(f'Please answer in Yes or No:\").title().strip()==\"Yes\"\n"
   ]
  },
  {
   "cell_type": "code",
   "execution_count": 19,
   "id": "3453c18a-6cea-45b7-bd4b-fa65aed5638c",
   "metadata": {},
   "outputs": [
    {
     "ename": "SyntaxError",
     "evalue": "invalid syntax (1799069347.py, line 4)",
     "output_type": "error",
     "traceback": [
      "\u001b[0;36m  Input \u001b[0;32mIn [19]\u001b[0;36m\u001b[0m\n\u001b[0;31m    if num % 2==0:\u001b[0m\n\u001b[0m                 ^\u001b[0m\n\u001b[0;31mSyntaxError\u001b[0m\u001b[0;31m:\u001b[0m invalid syntax\n"
     ]
    }
   ],
   "source": [
    "num=int(input(\"Enter a number:\")\n",
    "\n",
    "        \n",
    "if num % 2==0:\n",
    "        print(\"{} is even\".format(num))\n",
    "else:\n",
    "        print(\"{} is odd\".format(num))"
   ]
  },
  {
   "cell_type": "code",
   "execution_count": 16,
   "id": "5f03855c-1c5e-49e8-814a-b8553c0e8036",
   "metadata": {},
   "outputs": [
    {
     "name": "stdin",
     "output_type": "stream",
     "text": [
      "Enter a number but zero: 5\n"
     ]
    },
    {
     "name": "stdout",
     "output_type": "stream",
     "text": [
      "Positive number\n"
     ]
    }
   ],
   "source": [
    "numb=float(input(\"Enter a number but zero:\"))\n",
    "if numb>0 :\n",
    "    print(\"Positive number\")\n",
    "else:\n",
    "        print(\"Negative Number\")\n",
    "    "
   ]
  },
  {
   "cell_type": "code",
   "execution_count": 20,
   "id": "bb1f7093-3267-456b-87ac-7b5263258cb2",
   "metadata": {},
   "outputs": [
    {
     "name": "stdout",
     "output_type": "stream",
     "text": [
      "No\n"
     ]
    }
   ],
   "source": [
    "a=False\n",
    "\n",
    "if a==False:\n",
    "    print(\"No\")\n",
    "else:\n",
    "    print(\"Yes\")\n"
   ]
  },
  {
   "cell_type": "code",
   "execution_count": 23,
   "id": "012ea8af-2963-4911-9673-85e674e582dd",
   "metadata": {},
   "outputs": [
    {
     "name": "stdin",
     "output_type": "stream",
     "text": [
      "Please enter a number: 3\n",
      "Please enter second number:  5\n",
      "Please enter third number: 7\n"
     ]
    },
    {
     "name": "stdout",
     "output_type": "stream",
     "text": [
      "z is the largest number\n"
     ]
    }
   ],
   "source": [
    "x=int(input(\"Please enter a number:\"))\n",
    "y=int(input(\"Please enter second number: \"))\n",
    "z=int(input(\"Please enter third number:\"))\n",
    "      \n",
    "if x>y and x>z:\n",
    "      print(\"x is the largest number\")\n",
    "elif y>x and y>z:\n",
    "        print(\"y is the largest number\")\n",
    "else:\n",
    "      print(\"z is the largest number\")"
   ]
  },
  {
   "cell_type": "code",
   "execution_count": 24,
   "id": "c9297017-f0eb-4b1d-ab8c-82907709c270",
   "metadata": {},
   "outputs": [
    {
     "name": "stdin",
     "output_type": "stream",
     "text": [
      "Please enter a number: 0\n"
     ]
    },
    {
     "name": "stdout",
     "output_type": "stream",
     "text": [
      "a is 0\n"
     ]
    }
   ],
   "source": [
    "a=float(input(\"Please enter a number:\"))\n",
    "if a>0:\n",
    "    print(\"a is positive\")\n",
    "elif a< 0:\n",
    "    print(\"a is negative\")\n",
    "else:\n",
    "    print(\"a is 0\")\n"
   ]
  },
  {
   "cell_type": "code",
   "execution_count": 4,
   "id": "e22a1ca0-5907-4183-a2be-04cc73d79035",
   "metadata": {},
   "outputs": [
    {
     "ename": "SyntaxError",
     "evalue": "invalid syntax (2065553672.py, line 3)",
     "output_type": "error",
     "traceback": [
      "\u001b[0;36m  Input \u001b[0;32mIn [4]\u001b[0;36m\u001b[0m\n\u001b[0;31m    if note >= 95:\u001b[0m\n\u001b[0m                 ^\u001b[0m\n\u001b[0;31mSyntaxError\u001b[0m\u001b[0;31m:\u001b[0m invalid syntax\n"
     ]
    }
   ],
   "source": [
    "note=int(input(\"Please enter a note:\")\n",
    "         \n",
    "if note >= 95:\n",
    "         print(\"A+\")\n",
    "elif note<=79:\n",
    "         print(\"below B or B-\")\n",
    "elif  95>note >= 90 :\n",
    "         print(\"A\")\n",
    "elif  90> note>=85 :\n",
    "         print(\"B+\")\n",
    "else:\n",
    "         print(\"B\")"
   ]
  },
  {
   "cell_type": "code",
   "execution_count": 3,
   "id": "eab96bf9-9929-47b6-9661-25246472d037",
   "metadata": {},
   "outputs": [
    {
     "ename": "SyntaxError",
     "evalue": "invalid syntax (3782221204.py, line 3)",
     "output_type": "error",
     "traceback": [
      "\u001b[0;36m  Input \u001b[0;32mIn [3]\u001b[0;36m\u001b[0m\n\u001b[0;31m    if note > 90:\u001b[0m\n\u001b[0m                ^\u001b[0m\n\u001b[0;31mSyntaxError\u001b[0m\u001b[0;31m:\u001b[0m invalid syntax\n"
     ]
    }
   ],
   "source": [
    "note=int(input(\"Please enter a note:\")        \n",
    "\n",
    "    if note >= 80:\n",
    "         if note> 5:\n",
    "             print(\"A+\")\n",
    "         else:\n",
    "             print(\"A\")\n",
    "    elif 90> note >=80:\n",
    "         if note>=85:\n",
    "             print(\"B+\")\n",
    "         else:\n",
    "             print(\"B\")\n",
    "    else:\n",
    "         print(\"below B or B-\")"
   ]
  },
  {
   "cell_type": "code",
   "execution_count": null,
   "id": "9a3a2683",
   "metadata": {},
   "outputs": [],
   "source": []
  }
 ],
 "metadata": {
  "kernelspec": {
   "display_name": "Python 3 (ipykernel)",
   "language": "python",
   "name": "python3"
  },
  "language_info": {
   "codemirror_mode": {
    "name": "ipython",
    "version": 3
   },
   "file_extension": ".py",
   "mimetype": "text/x-python",
   "name": "python",
   "nbconvert_exporter": "python",
   "pygments_lexer": "ipython3",
   "version": "3.9.12"
  }
 },
 "nbformat": 4,
 "nbformat_minor": 5
}
