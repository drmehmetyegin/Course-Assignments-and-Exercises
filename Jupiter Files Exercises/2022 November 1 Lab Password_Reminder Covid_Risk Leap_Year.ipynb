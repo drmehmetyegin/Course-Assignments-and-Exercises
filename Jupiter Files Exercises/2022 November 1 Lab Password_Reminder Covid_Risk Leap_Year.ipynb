{
 "cells": [
  {
   "cell_type": "code",
   "execution_count": 9,
   "id": "af272858",
   "metadata": {},
   "outputs": [
    {
     "name": "stdout",
     "output_type": "stream",
     "text": [
      "Please enter your name to learn your password:Edwın\n",
      "HelloEdwın! See you later\n"
     ]
    },
    {
     "ename": "KeyboardInterrupt",
     "evalue": "Interrupted by user",
     "output_type": "error",
     "traceback": [
      "\u001b[0;31m---------------------------------------------------------------------------\u001b[0m",
      "\u001b[0;31mKeyboardInterrupt\u001b[0m                         Traceback (most recent call last)",
      "Input \u001b[0;32mIn [9]\u001b[0m, in \u001b[0;36m<cell line: 6>\u001b[0;34m()\u001b[0m\n\u001b[1;32m      3\u001b[0m Tr_list\u001b[38;5;241m=\u001b[39m\u001b[38;5;124m\"\u001b[39m\u001b[38;5;124mü Ü ö Ö ı İ ğ Ğ\u001b[39m\u001b[38;5;124m\"\u001b[39m\u001b[38;5;241m.\u001b[39msplit()\n\u001b[1;32m      5\u001b[0m \u001b[38;5;28;01mwhile\u001b[39;00m \u001b[38;5;28;01mTrue\u001b[39;00m:\n\u001b[0;32m----> 6\u001b[0m     given_name \u001b[38;5;241m=\u001b[39m \u001b[38;5;28;43minput\u001b[39;49m\u001b[43m(\u001b[49m\u001b[38;5;124;43m'\u001b[39;49m\u001b[38;5;124;43mPlease enter your name to learn your password:\u001b[39;49m\u001b[38;5;124;43m'\u001b[39;49m\u001b[43m)\u001b[49m\n\u001b[1;32m      7\u001b[0m     count\u001b[38;5;241m=\u001b[39m\u001b[38;5;241m0\u001b[39m\n\u001b[1;32m      8\u001b[0m     \u001b[38;5;28;01mfor\u001b[39;00m i \u001b[38;5;129;01min\u001b[39;00m \u001b[38;5;28mrange\u001b[39m(\u001b[38;5;28mlen\u001b[39m(given_name)):\n",
      "File \u001b[0;32m~/opt/anaconda3/lib/python3.9/site-packages/ipykernel/kernelbase.py:1075\u001b[0m, in \u001b[0;36mKernel.raw_input\u001b[0;34m(self, prompt)\u001b[0m\n\u001b[1;32m   1071\u001b[0m \u001b[38;5;28;01mif\u001b[39;00m \u001b[38;5;129;01mnot\u001b[39;00m \u001b[38;5;28mself\u001b[39m\u001b[38;5;241m.\u001b[39m_allow_stdin:\n\u001b[1;32m   1072\u001b[0m     \u001b[38;5;28;01mraise\u001b[39;00m StdinNotImplementedError(\n\u001b[1;32m   1073\u001b[0m         \u001b[38;5;124m\"\u001b[39m\u001b[38;5;124mraw_input was called, but this frontend does not support input requests.\u001b[39m\u001b[38;5;124m\"\u001b[39m\n\u001b[1;32m   1074\u001b[0m     )\n\u001b[0;32m-> 1075\u001b[0m \u001b[38;5;28;01mreturn\u001b[39;00m \u001b[38;5;28;43mself\u001b[39;49m\u001b[38;5;241;43m.\u001b[39;49m\u001b[43m_input_request\u001b[49m\u001b[43m(\u001b[49m\n\u001b[1;32m   1076\u001b[0m \u001b[43m    \u001b[49m\u001b[38;5;28;43mstr\u001b[39;49m\u001b[43m(\u001b[49m\u001b[43mprompt\u001b[49m\u001b[43m)\u001b[49m\u001b[43m,\u001b[49m\n\u001b[1;32m   1077\u001b[0m \u001b[43m    \u001b[49m\u001b[38;5;28;43mself\u001b[39;49m\u001b[38;5;241;43m.\u001b[39;49m\u001b[43m_parent_ident\u001b[49m\u001b[43m[\u001b[49m\u001b[38;5;124;43m\"\u001b[39;49m\u001b[38;5;124;43mshell\u001b[39;49m\u001b[38;5;124;43m\"\u001b[39;49m\u001b[43m]\u001b[49m\u001b[43m,\u001b[49m\n\u001b[1;32m   1078\u001b[0m \u001b[43m    \u001b[49m\u001b[38;5;28;43mself\u001b[39;49m\u001b[38;5;241;43m.\u001b[39;49m\u001b[43mget_parent\u001b[49m\u001b[43m(\u001b[49m\u001b[38;5;124;43m\"\u001b[39;49m\u001b[38;5;124;43mshell\u001b[39;49m\u001b[38;5;124;43m\"\u001b[39;49m\u001b[43m)\u001b[49m\u001b[43m,\u001b[49m\n\u001b[1;32m   1079\u001b[0m \u001b[43m    \u001b[49m\u001b[43mpassword\u001b[49m\u001b[38;5;241;43m=\u001b[39;49m\u001b[38;5;28;43;01mFalse\u001b[39;49;00m\u001b[43m,\u001b[49m\n\u001b[1;32m   1080\u001b[0m \u001b[43m\u001b[49m\u001b[43m)\u001b[49m\n",
      "File \u001b[0;32m~/opt/anaconda3/lib/python3.9/site-packages/ipykernel/kernelbase.py:1120\u001b[0m, in \u001b[0;36mKernel._input_request\u001b[0;34m(self, prompt, ident, parent, password)\u001b[0m\n\u001b[1;32m   1117\u001b[0m             \u001b[38;5;28;01mbreak\u001b[39;00m\n\u001b[1;32m   1118\u001b[0m \u001b[38;5;28;01mexcept\u001b[39;00m \u001b[38;5;167;01mKeyboardInterrupt\u001b[39;00m:\n\u001b[1;32m   1119\u001b[0m     \u001b[38;5;66;03m# re-raise KeyboardInterrupt, to truncate traceback\u001b[39;00m\n\u001b[0;32m-> 1120\u001b[0m     \u001b[38;5;28;01mraise\u001b[39;00m \u001b[38;5;167;01mKeyboardInterrupt\u001b[39;00m(\u001b[38;5;124m\"\u001b[39m\u001b[38;5;124mInterrupted by user\u001b[39m\u001b[38;5;124m\"\u001b[39m) \u001b[38;5;28;01mfrom\u001b[39;00m \u001b[38;5;28mNone\u001b[39m\n\u001b[1;32m   1121\u001b[0m \u001b[38;5;28;01mexcept\u001b[39;00m \u001b[38;5;167;01mException\u001b[39;00m:\n\u001b[1;32m   1122\u001b[0m     \u001b[38;5;28mself\u001b[39m\u001b[38;5;241m.\u001b[39mlog\u001b[38;5;241m.\u001b[39mwarning(\u001b[38;5;124m\"\u001b[39m\u001b[38;5;124mInvalid Message:\u001b[39m\u001b[38;5;124m\"\u001b[39m, exc_info\u001b[38;5;241m=\u001b[39m\u001b[38;5;28;01mTrue\u001b[39;00m)\n",
      "\u001b[0;31mKeyboardInterrupt\u001b[0m: Interrupted by user"
     ]
    }
   ],
   "source": [
    "name=\"Edwin\"\n",
    "password=\"edv23RGTs[}]\"\n",
    "Tr_list=\"ü Ü ö Ö ı İ ğ Ğ\".split()\n",
    "\n",
    "while True:\n",
    "    given_name = input('Please enter your name to learn your password:')\n",
    "    count=0\n",
    "    for i in range(len(given_name)):\n",
    "        \n",
    "        if given_name[i] in Tr_list:\n",
    "            count +=1\n",
    "            \n",
    "        if count ==0:\n",
    "            if given_name.title()==name:\n",
    "                print(f'Hello, {name}! Your password is : {password}')\n",
    "                break\n",
    "          \n",
    "            else:\n",
    "                print(f'Hello{given_name.title()}! See you later')\n",
    "                break\n",
    "        \n",
    "        elif count>0: #means else\n",
    "                print(\"Please use only English characters\")\n",
    "                continue\n",
    "                "
   ]
  },
  {
   "cell_type": "code",
   "execution_count": 7,
   "id": "32915134",
   "metadata": {},
   "outputs": [
    {
     "data": {
      "text/plain": [
       "['ü', 'Ü', 'ö', 'Ö', 'ı', 'İ', 'ğ', 'Ğ']"
      ]
     },
     "execution_count": 7,
     "metadata": {},
     "output_type": "execute_result"
    }
   ],
   "source": [
    "Tr_list=\"ü Ü ö Ö ı İ ğ Ğ\".split()\n",
    "Tr_list\n"
   ]
  },
  {
   "cell_type": "code",
   "execution_count": null,
   "id": "75b62708",
   "metadata": {},
   "outputs": [],
   "source": [
    "name=\"Edwin\"\n",
    "password=\"edv23RGTs[}]\"\n",
    "given_name=input('Please enter your name to learn your password:')\n",
    "if given.name.replace(\"İ\", \"I\").replace(\"ı\",\"i\").replace(\"Ö\",\"O\").title()==name:\n",
    "    print(f'Hello, {name}! Your password is : {password})\n",
    "          \n",
    "else:\n",
    "    print(f'Hello{given_name.title()}! See you later\")"
   ]
  },
  {
   "cell_type": "code",
   "execution_count": null,
   "id": "09a4036b",
   "metadata": {},
   "outputs": [],
   "source": [
    "name=\"Edwin\"\n",
    "password=\"edv23RGTs[}]\"\n",
    "Tr_list=\"ü Ü ö Ö ı İ ğ Ğ\".split()\n",
    "\n",
    "while True:\n",
    "    given_name = input('Please enter your name to learn your password:')\n",
    "    count=0\n",
    "    for i in range(len(given_name)):\n",
    "        if given_name in Tr_list:\n",
    "            count +=1\n",
    "            \n",
    "        if count ==0:\n",
    "            if given_name.title()==name:\n",
    "                \n",
    "                print(f'Hello, {name}! Your password is : {password}')\n",
    "                break\n",
    "            else:\n",
    "                print(f'Hello{given_name.title()}! See you later')\n",
    "                break\n",
    "        \n",
    "        elif count>0: #means else\n",
    "                print(\"Please use only English characters\")\n",
    "                continue\n",
    "                break\n",
    "                "
   ]
  },
  {
   "cell_type": "code",
   "execution_count": null,
   "id": "0bbc41f7",
   "metadata": {},
   "outputs": [],
   "source": []
  },
  {
   "cell_type": "code",
   "execution_count": null,
   "id": "6c8a06b0",
   "metadata": {},
   "outputs": [],
   "source": [
    "Yukaridaki kod eksik kaldi"
   ]
  },
  {
   "cell_type": "code",
   "execution_count": null,
   "id": "30ffca3b",
   "metadata": {},
   "outputs": [],
   "source": [
    "age = input(\"Please answer in Yes or No! Are you a cigarette addict older than 75 years old?:\").lower().strip()  # can be assigned only True/False\n",
    "chronic = input(\"Please answer in Yes or No! Do you have a severe chronic disease?:\").lower().strip() # can be assigned only True/False\n",
    "immune = input(\"Please answer in Yes or No!Is your immune system too weak?:\").lower().strip()  # can be assigned only True/False\n",
    "\n",
    "if (age==\"yes\") or (chronic==yes) or (immune==yes):\n",
    " \n",
    "    if age or chronic or immune:\n",
    "        print(\"You are in risky group\")\n",
    "    else:\n",
    "        print(\"You are not in risky group\")"
   ]
  },
  {
   "cell_type": "code",
   "execution_count": 1,
   "id": "a9e6e974",
   "metadata": {},
   "outputs": [
    {
     "data": {
      "text/plain": [
       "'small'"
      ]
     },
     "execution_count": 1,
     "metadata": {},
     "output_type": "execute_result"
    }
   ],
   "source": [
    "\"small\" if 2<3 else \"large\"\n"
   ]
  },
  {
   "cell_type": "code",
   "execution_count": null,
   "id": "86bd6c9f",
   "metadata": {},
   "outputs": [],
   "source": [
    "age = input(\"Please answer in Yes or No! Are you a cigarette addict older than 75 years old?:\").lower().strip() # can be assigned only True/False\n",
    "chronic = input(\"Please answer in Yes or No! Do you have a severe chronic disease?:\").lower().strip()# can be assigned only True/False\n",
    "immune = input(\"Please answer in Yes or No!Is your immune system too weak?:\").lower().strip()  # can be assigned only True/False\n",
    "\n",
    "\n",
    "\"You are in risky group\" if (age ==\"yes\") or (chronic==\"yes\") or (immune==\"yes\") else \"You are not in risky group\""
   ]
  },
  {
   "cell_type": "code",
   "execution_count": null,
   "id": "3dc2a20d",
   "metadata": {},
   "outputs": [],
   "source": [
    "age = input(\"Please answer in Yes or No! Are you a cigarette addict older than 75 years old?:\").lower().strip() == \"yes\" # can be assigned only True/False\n",
    "chronic = input(\"Please answer in Yes or No! Do you have a severe chronic disease?:\").lower().strip()== \"yes\" # can be assigned only True/False\n",
    "immune = input(\"Please answer in Yes or No!Is your immune system too weak?:\").lower().strip() == \"yes\""
   ]
  },
  {
   "cell_type": "code",
   "execution_count": null,
   "id": "d47ec182",
   "metadata": {},
   "outputs": [],
   "source": [
    "year= int(input(\"enter a year:\"))\n",
    "if year %4==0 and year % 100 !=0:\n",
    "    print(f\"{year} is a leap year\")\n",
    "elif year % 100==0 and year % 400==0:\n",
    "    "
   ]
  },
  {
   "cell_type": "code",
   "execution_count": 12,
   "id": "d42e051a",
   "metadata": {},
   "outputs": [
    {
     "name": "stdout",
     "output_type": "stream",
     "text": [
      "enter a year:2020\n",
      "2020 is a leap year\n"
     ]
    }
   ],
   "source": [
    "year= (input(\"enter a year:\"))\n",
    "\n",
    "if int(year)% 400==0:\n",
    "    print(f\"{year} is a leap year\")\n",
    "    \n",
    "elif int(year)% 100==0:\n",
    "    print(f\"{year} is not a leap year\")\n",
    "    \n",
    "elif int(year)% 4 ==0:\n",
    "    print(f\"{year} is a leap year\")\n",
    "else:\n",
    "    print(f\"{year} is not a leap year\")\n",
    "    \n",
    "    "
   ]
  },
  {
   "cell_type": "code",
   "execution_count": null,
   "id": "0b87cee4",
   "metadata": {},
   "outputs": [],
   "source": []
  },
  {
   "cell_type": "code",
   "execution_count": null,
   "id": "85d24152",
   "metadata": {},
   "outputs": [],
   "source": []
  }
 ],
 "metadata": {
  "kernelspec": {
   "display_name": "Python 3 (ipykernel)",
   "language": "python",
   "name": "python3"
  },
  "language_info": {
   "codemirror_mode": {
    "name": "ipython",
    "version": 3
   },
   "file_extension": ".py",
   "mimetype": "text/x-python",
   "name": "python",
   "nbconvert_exporter": "python",
   "pygments_lexer": "ipython3",
   "version": "3.9.12"
  }
 },
 "nbformat": 4,
 "nbformat_minor": 5
}
